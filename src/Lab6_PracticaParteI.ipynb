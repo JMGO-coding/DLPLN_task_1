{
 "cells": [
  {
   "cell_type": "markdown",
   "metadata": {},
   "source": [
    "# Trabajo Final Parte I: Trabajando con redes Encoder-Decoder\n",
    "\n",
    "**Asignatura**: Deep Learning para procesamiento de Lenguaje Natural, 2024/2025\n",
    "\n",
    "**Profesor**: Juan A. Botía (juanbot@um.es)\n",
    "\n",
    "**Máster de Inteligencia Artificial**\n",
    "\n",
    "**Facultad de Informática**\n",
    "\n",
    "![](https://www.um.es/image/layout_set_logo?img_id=175281&t=1726728636242)\n",
    "\n",
    "**Universidad de Murcia**\n",
    "\n",
    "![](https://www.um.es/o/um-lr-principal-um-home-theme/images/logo-um.png)\n",
    "\n",
    "\n",
    "# Introducción\n",
    "\n",
    "En esta práctica vamos a trabajar sobre una red del tipo sequencia-a-secuencia (sequence2sequence) basada en atención. Esta red neuronal se va a encargar de traducir del Francés al Inglés. Vamos a explicar cómo desarrollarla, su funcionamiento básico, cómo entrenarla y visualizar su comportamiento. \n",
    "\n",
    "Tras esto, la evaluación de la primera parte de la asignatura consistirá en la resolución de unos ejercicios sobre lo visto en la práctica.\n",
    "El desarrollo de la red que hemos usado como referencia en esta práctica está basada en [este tutorial](https://pytorch.org/tutorials/intermediate/seq2seq_translation_tutorial.html) de las páginas de Pytorch.  \n",
    "\n",
    "Con la red haremos cosas como lo que sigue\n",
    "\n",
    "``` {.sourceCode .sh}\n",
    "[KEY: > input, = target, < output]\n",
    "\n",
    "> il est en train de peindre un tableau .\n",
    "= he is painting a picture .\n",
    "< he is painting a picture .\n",
    "\n",
    "> pourquoi ne pas essayer ce vin delicieux ?\n",
    "= why not try that delicious wine ?\n",
    "< why not try that delicious wine ?\n",
    "\n",
    "> elle n est pas poete mais romanciere .\n",
    "= she is not a poet but a novelist .\n",
    "< she not not a poet but a novelist .\n",
    "\n",
    "> vous etes trop maigre .\n",
    "= you re too skinny .\n",
    "< you re all alone .\n",
    "```\n",
    "\n",
    "\\... y como se puede ver, conseguiremos unas cotas de éxito nada malas.\n",
    "\n",
    "Ya hemos visto en clase las redes del tipo *sequence2sequence*. En las transparencias de [transformers](https://aulavirtual.um.es/access/content/group/7926_P_2024_N_N/Parte%20I%20%3A%20Deep%20Learning/ClaseTransformers.pdf) del AV hemos visto este tipo de redes, propuestas en este [paper](https://arxiv.org/abs/1409.3215). Como sabemos, el encoder de esta red convierte la secuencia de entrada en un vector de contexto que amalgama la secuencia de estados ocultos para cada token de entrada y el decoder convierte este mismo vector de contexto en una nueva secuencia. A continuación una representación esquemática de su funcionamiento.\n",
    "\n",
    "![](https://pytorch.org/tutorials/_static/img/seq-seq-images/seq2seq.png)\n",
    "\n",
    "Ademàs, como sabemos, la [atención](https://arxiv.org/abs/1409.0473) mejora este tipo de arquitectura.\n",
    "\n",
    "A continuación, las importaciones básicas de las librerías necesarias. Nada especial de momento."
   ]
  },
  {
   "cell_type": "code",
   "execution_count": 1,
   "metadata": {
    "collapsed": false
   },
   "outputs": [],
   "source": [
    "from __future__ import unicode_literals, print_function, division\n",
    "from io import open\n",
    "import unicodedata\n",
    "import re\n",
    "import random\n",
    "\n",
    "import torch\n",
    "import torch.nn as nn\n",
    "from torch import optim\n",
    "import torch.nn.functional as F\n",
    "\n",
    "import numpy as np\n",
    "from torch.utils.data import TensorDataset, DataLoader, RandomSampler\n",
    "\n",
    "device = torch.device(\"cuda\" if torch.cuda.is_available() else \"cpu\")"
   ]
  },
  {
   "cell_type": "code",
   "execution_count": 2,
   "metadata": {},
   "outputs": [
    {
     "name": "stdout",
     "output_type": "stream",
     "text": [
      "cuda\n"
     ]
    }
   ],
   "source": [
    "print(device)"
   ]
  },
  {
   "cell_type": "code",
   "execution_count": 3,
   "metadata": {},
   "outputs": [
    {
     "name": "stdout",
     "output_type": "stream",
     "text": [
      "2.5.1+cu121\n"
     ]
    }
   ],
   "source": [
    "print(torch.__version__)"
   ]
  },
  {
   "cell_type": "code",
   "execution_count": 4,
   "metadata": {},
   "outputs": [
    {
     "name": "stdout",
     "output_type": "stream",
     "text": [
      "12.1\n",
      "True\n",
      "NVIDIA GeForce RTX 4060\n"
     ]
    }
   ],
   "source": [
    "print(torch.version.cuda)             # CUDA con la que fue compilado PyTorch\n",
    "print(torch.cuda.is_available())      # Si la GPU está disponible\n",
    "print(torch.cuda.get_device_name(0))  # Nombre de la GPU (si está disponible)"
   ]
  },
  {
   "cell_type": "markdown",
   "metadata": {},
   "source": [
    "\n",
    "# Datos de entrenamiento\n",
    "\n",
    "Los datos de entrenamiento que vamos a usar son, como no podía ser de otra forma, datasets de pares de sentencias de los dos lenguajes que usamos en la traducción. En la página <https://www.manythings.org/anki/> tenemos ficheros de datos de muchos lenguajes al inglés. Concretamente, vamos a ver ejemplificado para el caso del inglés al francés y el fichero es [este](https://www.manythings.org/anki/fra-eng.zip). Se descargará en  `data/eng-fra.txt` y es una serie de pares\n",
    "\n",
    "``` {.sourceCode .sh}\n",
    "I am cold.    J'ai froid.\n",
    "```\n",
    "\n",
    "Para este ejemplo, se ha procesado algo y se ha vuelto a empaquetar y colocado [aquí](https://download.pytorch.org/tutorial/data.zip). Si quisiéramos usar alguno de los otros ficheros para obtener algún otro traductor, necesitaríamos previamente adaptarlo a la misma forma que este con un sencillo formateo.\n",
    "\n",
    "Internamente, cada palabra la vamos a representar con un vector one-hot aunque reduciendo el número de palabras por lenguaje.\n",
    "\n",
    "![](https://pytorch.org/tutorials/_static/img/seq-seq-images/word-encoding.png)\n",
    "\n",
    "Necesitaremos un único índice para cada palabra y para llevar la cuenta de todos en cada lenguaje, usaremos una clase `Lang` que tiene sendos diccionarios `wrod2index` e `index2word` además de la longitud de cada palabra `word2count` que necesitaremos para eliminar palabras de baja frecuencia.  \n"
   ]
  },
  {
   "cell_type": "code",
   "execution_count": 5,
   "metadata": {
    "collapsed": false
   },
   "outputs": [],
   "source": [
    "SOS_token = 0\n",
    "EOS_token = 1\n",
    "\n",
    "class Lang:\n",
    "    def __init__(self, name):\n",
    "        self.name = name\n",
    "        self.word2index = {}\n",
    "        self.word2count = {}\n",
    "        self.index2word = {0: \"SOS\", 1: \"EOS\"}     # Ponemos indice 0 a \"SOS\" e indice 1 a \"EOS\" en el diccionario de palabras por defecto\n",
    "        self.n_words = 2  # Count SOS and EOS\n",
    "\n",
    "    def addSentence(self, sentence):\n",
    "        for word in sentence.split(' '):\n",
    "            self.addWord(word)\n",
    "\n",
    "    def addWord(self, word):\n",
    "        if word not in self.word2index:\n",
    "            self.word2index[word] = self.n_words\n",
    "            self.word2count[word] = 1\n",
    "            self.index2word[self.n_words] = word\n",
    "            self.n_words += 1\n",
    "        else:\n",
    "            self.word2count[word] += 1"
   ]
  },
  {
   "cell_type": "markdown",
   "metadata": {},
   "source": [
    "Como todos los ficheros son unicode, simplificaremos las cosas pasando todo a ASCII, minúsculas, y eliminando todos los signos de puntuación.\n"
   ]
  },
  {
   "cell_type": "code",
   "execution_count": 6,
   "metadata": {
    "collapsed": false
   },
   "outputs": [],
   "source": [
    "# Turn a Unicode string to plain ASCII, thanks to\n",
    "# https://stackoverflow.com/a/518232/2809427\n",
    "\n",
    "def unicodeToAscii(s):\n",
    "    return ''.join(\n",
    "        c for c in unicodedata.normalize('NFD', s)\n",
    "        if unicodedata.category(c) != 'Mn'\n",
    "    )\n",
    "\n",
    "\n",
    "def normalizeString(s):\n",
    "    ''' Lowercase, trim, and remove non-letter characters '''\n",
    "\n",
    "    s = unicodeToAscii(s.lower().strip())\n",
    "    s = re.sub(r\"([.!?])\", r\" \\1\", s)\n",
    "    s = re.sub(r\"[^a-zA-Z!?]+\", r\" \", s)\n",
    "    return s.strip()"
   ]
  },
  {
   "cell_type": "markdown",
   "metadata": {},
   "source": [
    "Como ya hemos hecho otras veces, separaremos ficheros en líneas, y las líneas en pares. Ya hemos visto que todos los ficheros contienen sentencias del inglés a otros lenguajes. Si vamos a traducir del *otro* lenguaje al inglés, simplemente ponemos `reverse` a true.\n"
   ]
  },
  {
   "cell_type": "code",
   "execution_count": 10,
   "metadata": {
    "collapsed": false
   },
   "outputs": [],
   "source": [
    "def readLangs(lang1, lang2, reverse=False):\n",
    "    \n",
    "    print(\"Reading lines...\")\n",
    "\n",
    "    # Read the file and split into lines (RETOCADO)\n",
    "    lines = open('../data/%s-%s.txt' % (lang1, lang2), encoding='utf-8').\\\n",
    "        read().strip().split('\\n')\n",
    "\n",
    "    # Split every line into pairs and normalize\n",
    "    pairs = [[normalizeString(s) for s in l.split('\\t')] for l in lines]\n",
    "\n",
    "    # Reverse pairs, make Lang instances\n",
    "    if reverse:\n",
    "        pairs = [list(reversed(p)) for p in pairs]\n",
    "        input_lang = Lang(lang2)\n",
    "        output_lang = Lang(lang1)\n",
    "    else:\n",
    "        input_lang = Lang(lang1)\n",
    "        output_lang = Lang(lang2)\n",
    "\n",
    "    return input_lang, output_lang, pairs"
   ]
  },
  {
   "cell_type": "markdown",
   "metadata": {},
   "source": [
    "Vamos a filtrar un poco las sentencias para hacerlo más simple y rápido, quedándonos con sentencias de 10 palabras a lo sumo y eliminando sentencias simples del tipo  \\\"I am\\\" or \\\"He is\\\" etc. \n"
   ]
  },
  {
   "cell_type": "code",
   "execution_count": 11,
   "metadata": {
    "collapsed": false
   },
   "outputs": [],
   "source": [
    "MAX_LENGTH = 10\n",
    "\n",
    "eng_prefixes = (\n",
    "    \"i am \", \"i m \",\n",
    "    \"he is\", \"he s \",\n",
    "    \"she is\", \"she s \",\n",
    "    \"you are\", \"you re \",\n",
    "    \"we are\", \"we re \",\n",
    "    \"they are\", \"they re \"\n",
    ")\n",
    "\n",
    "def filterPair(p):\n",
    "    return len(p[0].split(' ')) < MAX_LENGTH and \\\n",
    "        len(p[1].split(' ')) < MAX_LENGTH and \\\n",
    "        p[1].startswith(eng_prefixes)\n",
    "\n",
    "\n",
    "def filterPairs(pairs):\n",
    "    return [pair for pair in pairs if filterPair(pair)]"
   ]
  },
  {
   "cell_type": "markdown",
   "metadata": {},
   "source": [
    "Entonces, el proceso global para preparar los datos incluye\n",
    "\n",
    "* Leer el fichero de texto, separar en líneas, separar las líneas en pares\n",
    "\n",
    "* Normalizar el texto, filtrar por longitud y contenido\n",
    "\n",
    "* Hacer listas de palabras a partir de los pares de sentencias\n"
   ]
  },
  {
   "cell_type": "code",
   "execution_count": 12,
   "metadata": {
    "collapsed": false
   },
   "outputs": [
    {
     "name": "stdout",
     "output_type": "stream",
     "text": [
      "Reading lines...\n",
      "Read 135842 sentence pairs\n",
      "Trimmed to 11445 sentence pairs\n",
      "Counting words...\n",
      "Counted words:\n",
      "fra 4601\n",
      "eng 2991\n",
      "['ils sont actuellement en reunion', 'they are currently attending a meeting']\n"
     ]
    }
   ],
   "source": [
    "def prepareData(lang1, lang2, reverse=False):\n",
    "    ''' Esta función encapsula todos los procesos de lectura y filtrado de pares de frases y creación de diccionarios en\n",
    "    los respectivos idiomas que acabamos de ver '''\n",
    "\n",
    "    input_lang, output_lang, pairs = readLangs(lang1, lang2, reverse)\n",
    "    print(\"Read %s sentence pairs\" % len(pairs))\n",
    "    pairs = filterPairs(pairs)\n",
    "    print(\"Trimmed to %s sentence pairs\" % len(pairs))\n",
    "    print(\"Counting words...\")\n",
    "    for pair in pairs:\n",
    "        input_lang.addSentence(pair[0])\n",
    "        output_lang.addSentence(pair[1])\n",
    "    print(\"Counted words:\")\n",
    "    print(input_lang.name, input_lang.n_words)\n",
    "    print(output_lang.name, output_lang.n_words)\n",
    "    return input_lang, output_lang, pairs\n",
    "\n",
    "input_lang, output_lang, pairs = prepareData('eng', 'fra', True)\n",
    "print(random.choice(pairs))"
   ]
  },
  {
   "cell_type": "markdown",
   "metadata": {},
   "source": [
    "\n",
    "# La red neuronal\n",
    "\n",
    "Como hemos mencionado, vamos a usar una [Seq2Seq](https://arxiv.org/abs/1409.3215), con [encoder y decoder](https://arxiv.org/pdf/1406.1078v3.pdf) basados en redes recurrentes. \n",
    "\n",
    "![](https://pytorch.org/tutorials/_static/img/seq-seq-images/seq2seq.png)\n",
    "\n",
    "¿Por qué usar dos redes recurrentes en lugar de una? El usar una segunda RNN en el decoder tiene la ventaja de desacoplar totalmente el tratamiento de la secuencia de entrada del tratamiento de la de salida. Así, ambas pueden ser tanto de diferentes diccionarios (incluso modalidades) y, naturalmente, diferentes longitudes también.\n",
    "\n",
    "¿Qué está ocurriendo internamente? Por ejemplo, la sentencia \n",
    "\n",
    " `Je ne suis pas le chat noir` → `I am not the black cat`. \n",
    " \n",
    "La mayoría de las palabras de la sentencia de entrada tienen traducción directa al inglés. Sin embargo, la traducción ideal de la setencia no vienen de la traducción de cada una de las palabras individuales. Con la red seq2seq, el encoder mediante la creación de un vector $c$ que codifica la secuencia de estados ocultos $h_1,h_2,\\ldots$ es capaz, la mayoría de las veces, de codificar el *significado* de la sentencia de entrada en dicho vector, i.e., un único punto en un espacio $N$-dimensional.  \n",
    " \n",
    "\n",
    "## El encoder\n",
    "\n",
    "La estructura del encoder aparece en la figura de abajo. No hay nada que no hayamos visto ya. Usamos un embedding para los tokens, usamos el estado oculto anterior, en `prev_hidden`, en este caso usamos una red **GRU (Gated Recurrent Unit)** que, como ya sabemos, es una **LSTM evolucionada hacia algo más simple**:\n",
    "\n",
    "![](https://pytorch.org/tutorials/_static/img/seq-seq-images/encoder-network.png)"
   ]
  },
  {
   "cell_type": "code",
   "execution_count": 13,
   "metadata": {
    "collapsed": false
   },
   "outputs": [],
   "source": [
    "class EncoderRNN(nn.Module):\n",
    "    def __init__(self, input_size, hidden_size, dropout_p=0.1):\n",
    "        super(EncoderRNN, self).__init__()\n",
    "        self.hidden_size = hidden_size\n",
    "        self.embedding = nn.Embedding(input_size, hidden_size)\n",
    "        self.gru = nn.GRU(hidden_size, hidden_size, batch_first=True)\n",
    "        self.dropout = nn.Dropout(dropout_p)\n",
    "\n",
    "    def forward(self, input):\n",
    "        embedded = self.dropout(self.embedding(input))\n",
    "        output, hidden = self.gru(embedded)\n",
    "        return output, hidden"
   ]
  },
  {
   "cell_type": "markdown",
   "metadata": {},
   "source": [
    "## El decoder\n",
    "\n",
    "El decoder es otra GRU. Como cualquier otra GRU, acepta el estado anterior y genera el estado oculto actual. Y como cualquier otra GRU, acepta un token a la entrada y genera una salida (en este caso, dicha salida va a un softmax y de ahí al token de salida). El decoder actúa de manera iterativa. Inicial con el token `<SOS>` (start of string) y en cada iteración usa la entrada y el estado anterior para producir la salida y el estado actual.\n",
    "\n",
    "![](https://pytorch.org/tutorials/_static/img/seq-seq-images/decoder-network.png)\n",
    "\n"
   ]
  },
  {
   "cell_type": "code",
   "execution_count": 14,
   "metadata": {
    "collapsed": false
   },
   "outputs": [],
   "source": [
    "class DecoderRNN(nn.Module):\n",
    "    def __init__(self, hidden_size, output_size):\n",
    "        super(DecoderRNN, self).__init__()\n",
    "        self.embedding = nn.Embedding(output_size, hidden_size)\n",
    "        self.gru = nn.GRU(hidden_size, hidden_size, batch_first=True)\n",
    "        self.out = nn.Linear(hidden_size, output_size)\n",
    "\n",
    "    def forward(self, encoder_outputs, encoder_hidden, target_tensor=None):\n",
    "        batch_size = encoder_outputs.size(0)\n",
    "        decoder_input = torch.empty(batch_size, 1, dtype=torch.long, device=device).fill_(SOS_token)\n",
    "        decoder_hidden = encoder_hidden\n",
    "        decoder_outputs = []\n",
    "\n",
    "        for i in range(MAX_LENGTH):\n",
    "            decoder_output, decoder_hidden  = self.forward_step(decoder_input, decoder_hidden)\n",
    "            decoder_outputs.append(decoder_output)\n",
    "\n",
    "            if target_tensor is not None:\n",
    "                # Teacher forcing: Feed the target as the next input\n",
    "                decoder_input = target_tensor[:, i].unsqueeze(1) # Teacher forcing\n",
    "            else:\n",
    "                # Without teacher forcing: use its own predictions as the next input\n",
    "                _, topi = decoder_output.topk(1)\n",
    "                decoder_input = topi.squeeze(-1).detach()  # detach from history as input\n",
    "\n",
    "        decoder_outputs = torch.cat(decoder_outputs, dim=1)\n",
    "        decoder_outputs = F.log_softmax(decoder_outputs, dim=-1)\n",
    "        return decoder_outputs, decoder_hidden, None # We return `None` for consistency in the training loop\n",
    "\n",
    "    def forward_step(self, input, hidden):\n",
    "        output = self.embedding(input)\n",
    "        output = F.relu(output)\n",
    "        output, hidden = self.gru(output, hidden)\n",
    "        output = self.out(output)\n",
    "        return output, hidden"
   ]
  },
  {
   "cell_type": "markdown",
   "metadata": {},
   "source": [
    "\n",
    "## Decoder basado en atención\n",
    "\n",
    "Ya hemos visto en las transparencias dedicadas a los [transfomers](https://aulavirtual.um.es/access/content/group/7926_P_2024_N_N/Parte%20I%20%3A%20Deep%20Learning/ClaseTransformers.pdf) cómo funciona la atención a la hora de determinar qué es lo relevante en una secuencia. Como sabemos, la atención se centra en las diferentes partes de la salida del encoder, para determinar qué es lo relevante de esa salida, y cómo de relevante. Básicamente, usamos las siguientes ideas\n",
    "\n",
    "* Calculamos los *pesos de atención* sobre cada una de las salidas del encoder\n",
    "\n",
    "* Esos pesos se multiplican por la salida del encoder para crear una combinación lineal, almacenada en la variable `attn_applied` \n",
    "\n",
    "![](https://i.imgur.com/1152PYf.png)\n",
    "\n",
    "### Los pesos de atención\n",
    "\n",
    "Estos se calculan mediante una capa feed-forward, en la variable `attn`, que usa la entrada al decoder y el estado oculto.\n",
    "\n",
    "![](https://pytorch.org/tutorials/_static/img/seq-seq-images/attention-decoder-network.png)\n",
    "\n",
    "Usamos aquí el modelo de [Bahdanau](https://arxiv.org/pdf/1409.0473.pdf), que es un modelo aditivo\n",
    "\n"
   ]
  },
  {
   "cell_type": "code",
   "execution_count": 15,
   "metadata": {
    "collapsed": false
   },
   "outputs": [],
   "source": [
    "class BahdanauAttention(nn.Module):\n",
    "    def __init__(self, hidden_size):\n",
    "        super(BahdanauAttention, self).__init__()\n",
    "        self.Wa = nn.Linear(hidden_size, hidden_size)\n",
    "        self.Ua = nn.Linear(hidden_size, hidden_size)\n",
    "        self.Va = nn.Linear(hidden_size, 1)\n",
    "\n",
    "    def forward(self, query, keys):\n",
    "        scores = self.Va(torch.tanh(self.Wa(query) + self.Ua(keys)))\n",
    "        scores = scores.squeeze(2).unsqueeze(1)\n",
    "\n",
    "        weights = F.softmax(scores, dim=-1)\n",
    "        context = torch.bmm(weights, keys)\n",
    "\n",
    "        return context, weights\n",
    "\n",
    "class AttnDecoderRNN(nn.Module):\n",
    "    def __init__(self, hidden_size, output_size, dropout_p=0.1):\n",
    "        super(AttnDecoderRNN, self).__init__()\n",
    "        self.embedding = nn.Embedding(output_size, hidden_size)\n",
    "        self.attention = BahdanauAttention(hidden_size)\n",
    "        self.gru = nn.GRU(2 * hidden_size, hidden_size, batch_first=True)\n",
    "        self.out = nn.Linear(hidden_size, output_size)\n",
    "        self.dropout = nn.Dropout(dropout_p)\n",
    "\n",
    "    def forward(self, encoder_outputs, encoder_hidden, target_tensor=None):\n",
    "        batch_size = encoder_outputs.size(0)\n",
    "        decoder_input = torch.empty(batch_size, 1, dtype=torch.long, device=device).fill_(SOS_token)\n",
    "        decoder_hidden = encoder_hidden\n",
    "        decoder_outputs = []\n",
    "        attentions = []\n",
    "\n",
    "        for i in range(MAX_LENGTH):\n",
    "            decoder_output, decoder_hidden, attn_weights = self.forward_step(\n",
    "                decoder_input, decoder_hidden, encoder_outputs\n",
    "            )\n",
    "            decoder_outputs.append(decoder_output)\n",
    "            attentions.append(attn_weights)\n",
    "\n",
    "            if target_tensor is not None:\n",
    "                # Teacher forcing: Feed the target as the next input\n",
    "                decoder_input = target_tensor[:, i].unsqueeze(1) # Teacher forcing\n",
    "            else:\n",
    "                # Without teacher forcing: use its own predictions as the next input\n",
    "                _, topi = decoder_output.topk(1)\n",
    "                decoder_input = topi.squeeze(-1).detach()  # detach from history as input\n",
    "\n",
    "        decoder_outputs = torch.cat(decoder_outputs, dim=1)\n",
    "        decoder_outputs = F.log_softmax(decoder_outputs, dim=-1)\n",
    "        attentions = torch.cat(attentions, dim=1)\n",
    "\n",
    "        return decoder_outputs, decoder_hidden, attentions\n",
    "\n",
    "\n",
    "    def forward_step(self, input, hidden, encoder_outputs):\n",
    "        embedded =  self.dropout(self.embedding(input))\n",
    "\n",
    "        query = hidden.permute(1, 0, 2)\n",
    "        context, attn_weights = self.attention(query, encoder_outputs)\n",
    "        input_gru = torch.cat((embedded, context), dim=2)\n",
    "\n",
    "        output, hidden = self.gru(input_gru, hidden)\n",
    "        output = self.out(output)\n",
    "\n",
    "        return output, hidden, attn_weights"
   ]
  },
  {
   "cell_type": "markdown",
   "metadata": {},
   "source": [
    "\n",
    "# Detalles sobre el entrenamiento\n",
    "\n",
    "Para el entrenamiento, vamos a necesitar preparar los datos de training. Para cada ejemplo, necesitaremos su correspondiente tensor indexando a las palabras de la sentencia. A ambos les añadiremos un token EOS (end-of-sentence).\n"
   ]
  },
  {
   "cell_type": "code",
   "execution_count": null,
   "metadata": {
    "collapsed": false
   },
   "outputs": [],
   "source": [
    "def indexesFromSentence(lang, sentence):\n",
    "    return [lang.word2index[word] for word in sentence.split(' ')]\n",
    "\n",
    "def tensorFromSentence(lang, sentence):\n",
    "    indexes = indexesFromSentence(lang, sentence)\n",
    "    indexes.append(EOS_token)\n",
    "    return torch.tensor(indexes, dtype=torch.long, device=device).view(1, -1)\n",
    "\n",
    "def tensorsFromPair(pair):\n",
    "    input_tensor = tensorFromSentence(input_lang, pair[0])\n",
    "    target_tensor = tensorFromSentence(output_lang, pair[1])\n",
    "    return (input_tensor, target_tensor)\n",
    "\n",
    "def get_dataloader(batch_size):\n",
    "    input_lang, output_lang, pairs = prepareData('eng', 'fra', True)\n",
    "\n",
    "    n = len(pairs)\n",
    "    input_ids = np.zeros((n, MAX_LENGTH), dtype=np.int32)\n",
    "    target_ids = np.zeros((n, MAX_LENGTH), dtype=np.int32)\n",
    "\n",
    "    for idx, (inp, tgt) in enumerate(pairs):\n",
    "        inp_ids = indexesFromSentence(input_lang, inp)\n",
    "        tgt_ids = indexesFromSentence(output_lang, tgt)\n",
    "        inp_ids.append(EOS_token)\n",
    "        tgt_ids.append(EOS_token)\n",
    "        input_ids[idx, :len(inp_ids)] = inp_ids\n",
    "        target_ids[idx, :len(tgt_ids)] = tgt_ids\n",
    "\n",
    "    train_data = TensorDataset(torch.LongTensor(input_ids).to(device),\n",
    "                               torch.LongTensor(target_ids).to(device))\n",
    "\n",
    "    train_sampler = RandomSampler(train_data)\n",
    "    train_dataloader = DataLoader(train_data, sampler=train_sampler, batch_size=batch_size)     # Controla el entrenamiento por batches randomizados con el RandomSampler (no hace train/test por defecto)\n",
    "    return input_lang, output_lang, train_dataloader"
   ]
  },
  {
   "cell_type": "markdown",
   "metadata": {},
   "source": [
    "\n",
    "En el entrenamiento, usamos el encoder con cada setencia de entrada y llevamos la cuenta de la salida y el estado oculto correspondiente. A continuación, el decoder recibe el token `<SOS>` como primer token y el último estado oculto del encoder como su primer estado oculto. Usamos *teacher forcing* (ver traspas de Transformers de clase) de tal forma que usamos para la pérdida la respuesta real en lugar de la que sugirió el encoder. La variable `teacher_forcing_ratio` nos permitiría indicar con cuánta intensidar queremos usar teacher forcing. Pero no lo vamos a usar.\n"
   ]
  },
  {
   "cell_type": "code",
   "execution_count": 17,
   "metadata": {
    "collapsed": false
   },
   "outputs": [],
   "source": [
    "def train_epoch(dataloader, encoder, decoder, encoder_optimizer,\n",
    "          decoder_optimizer, criterion):\n",
    "\n",
    "    total_loss = 0\n",
    "    for data in dataloader:\n",
    "        input_tensor, target_tensor = data\n",
    "\n",
    "        encoder_optimizer.zero_grad()\n",
    "        decoder_optimizer.zero_grad()\n",
    "\n",
    "        encoder_outputs, encoder_hidden = encoder(input_tensor)\n",
    "        decoder_outputs, _, _ = decoder(encoder_outputs, encoder_hidden, target_tensor)\n",
    "\n",
    "        loss = criterion(\n",
    "            decoder_outputs.view(-1, decoder_outputs.size(-1)),\n",
    "            target_tensor.view(-1)\n",
    "        )\n",
    "        loss.backward()\n",
    "\n",
    "        encoder_optimizer.step()\n",
    "        decoder_optimizer.step()\n",
    "\n",
    "        total_loss += loss.item()\n",
    "\n",
    "    return total_loss / len(dataloader)"
   ]
  },
  {
   "cell_type": "markdown",
   "metadata": {},
   "source": [
    "Usamos estas funciones para imprimir el tiempo transcurrido en el entrenamiento y el estimado que nos queda, junto con el tiempo actual y su progreso.\n"
   ]
  },
  {
   "cell_type": "code",
   "execution_count": 18,
   "metadata": {
    "collapsed": false
   },
   "outputs": [],
   "source": [
    "import time\n",
    "import math\n",
    "\n",
    "def asMinutes(s):\n",
    "    m = math.floor(s / 60)\n",
    "    s -= m * 60\n",
    "    return '%dm %ds' % (m, s)\n",
    "\n",
    "def timeSince(since, percent):\n",
    "    now = time.time()\n",
    "    s = now - since\n",
    "    es = s / (percent)\n",
    "    rs = es - s\n",
    "    return '%s (- %s)' % (asMinutes(s), asMinutes(rs))"
   ]
  },
  {
   "cell_type": "markdown",
   "metadata": {},
   "source": [
    "Una vez definido todo este código, el proceso de entrenamiento consiste en los pasos siguientes\n",
    "\n",
    "* Lanzamos un temporizador\n",
    "\n",
    "* Inicializamos los optimizadores y la función de pérdida\n",
    "\n",
    "* Creamos un conjunto de pares de sentencias para el entrenamiento de la red\n",
    "\n",
    "* Inicializamos el array de pérdida para el ploteado de su evolución\n",
    "\n",
    "Tras esto, invocamos a `train` repetidamente y, cada cierto tiempo, imprimimos el progreso del mismo.\n",
    "\n"
   ]
  },
  {
   "cell_type": "code",
   "execution_count": 19,
   "metadata": {
    "collapsed": false
   },
   "outputs": [],
   "source": [
    "def train(train_dataloader, encoder, decoder, n_epochs, learning_rate=0.001,\n",
    "               print_every=100, plot_every=100):\n",
    "    start = time.time()\n",
    "    plot_losses = []\n",
    "    print_loss_total = 0  # Reset every print_every\n",
    "    plot_loss_total = 0  # Reset every plot_every\n",
    "\n",
    "    encoder_optimizer = optim.Adam(encoder.parameters(), lr=learning_rate)\n",
    "    decoder_optimizer = optim.Adam(decoder.parameters(), lr=learning_rate)\n",
    "    criterion = nn.NLLLoss()\n",
    "\n",
    "    for epoch in range(1, n_epochs + 1):\n",
    "        loss = train_epoch(train_dataloader, encoder, decoder, encoder_optimizer, decoder_optimizer, criterion)\n",
    "        print_loss_total += loss\n",
    "        plot_loss_total += loss\n",
    "\n",
    "        if epoch % print_every == 0:\n",
    "            print_loss_avg = print_loss_total / print_every\n",
    "            print_loss_total = 0\n",
    "            print('%s (%d %d%%) %.4f' % (timeSince(start, epoch / n_epochs),\n",
    "                                        epoch, epoch / n_epochs * 100, print_loss_avg))\n",
    "\n",
    "        if epoch % plot_every == 0:\n",
    "            plot_loss_avg = plot_loss_total / plot_every\n",
    "            plot_losses.append(plot_loss_avg)\n",
    "            plot_loss_total = 0\n",
    "\n",
    "    showPlot(plot_losses)"
   ]
  },
  {
   "cell_type": "markdown",
   "metadata": {},
   "source": [
    "\n",
    "## Ploteando los resultados\n",
    "\n",
    "Para plotear los resultados, usamos `matplotlib` ploteando el contenido de la variable `plot_losses` que hemos ido almacenando durante el entrenamiento."
   ]
  },
  {
   "cell_type": "code",
   "execution_count": 20,
   "metadata": {
    "collapsed": false
   },
   "outputs": [],
   "source": [
    "%matplotlib inline\n",
    "\n",
    "\n",
    "import matplotlib.pyplot as plt\n",
    "plt.switch_backend('agg')\n",
    "import matplotlib.ticker as ticker\n",
    "import numpy as np\n",
    "\n",
    "def showPlot(points):\n",
    "    plt.figure()\n",
    "    fig, ax = plt.subplots()\n",
    "    # this locator puts ticks at regular intervals\n",
    "    loc = ticker.MultipleLocator(base=0.2)\n",
    "    ax.yaxis.set_major_locator(loc)\n",
    "    plt.plot(points)\n",
    "    #plt.show()"
   ]
  },
  {
   "cell_type": "markdown",
   "metadata": {},
   "source": [
    "# Evaluación\n",
    "\n",
    "La evaluación que hemos definido es simplemente un registro de la predicción para la sentencia de entrada.\n"
   ]
  },
  {
   "cell_type": "code",
   "execution_count": 21,
   "metadata": {
    "collapsed": false
   },
   "outputs": [],
   "source": [
    "def evaluate(encoder, decoder, sentence, input_lang, output_lang):\n",
    "    with torch.no_grad():\n",
    "        input_tensor = tensorFromSentence(input_lang, sentence)\n",
    "\n",
    "        encoder_outputs, encoder_hidden = encoder(input_tensor)\n",
    "        decoder_outputs, decoder_hidden, decoder_attn = decoder(encoder_outputs, encoder_hidden)\n",
    "\n",
    "        _, topi = decoder_outputs.topk(1)\n",
    "        decoded_ids = topi.squeeze()\n",
    "\n",
    "        decoded_words = []\n",
    "        for idx in decoded_ids:\n",
    "            if idx.item() == EOS_token:\n",
    "                decoded_words.append('<EOS>')\n",
    "                break\n",
    "            decoded_words.append(output_lang.index2word[idx.item()])\n",
    "    return decoded_words, decoder_attn"
   ]
  },
  {
   "cell_type": "markdown",
   "metadata": {},
   "source": [
    "Además, podemos evaluar de manera subjetiva sentencias escogidas al azar si imprimimos la entrada, lo que se debería haber traducido y la salida producida por la red, con este código.\n"
   ]
  },
  {
   "cell_type": "code",
   "execution_count": 22,
   "metadata": {
    "collapsed": false
   },
   "outputs": [],
   "source": [
    "def evaluateRandomly(encoder, decoder, n=10):\n",
    "    for i in range(n):\n",
    "        pair = random.choice(pairs)\n",
    "        print('>', pair[0])\n",
    "        print('=', pair[1])\n",
    "        output_words, _ = evaluate(encoder, decoder, pair[0], input_lang, output_lang)\n",
    "        output_sentence = ' '.join(output_words)\n",
    "        print('<', output_sentence)\n",
    "        print('')"
   ]
  },
  {
   "cell_type": "markdown",
   "metadata": {},
   "source": [
    "\n",
    "## Ejemplo de cómo entrenarla red\n",
    "\n",
    "Una vez que tenemos todo listo -nos ha constado algún trabajo programar el código extra con todas las utilidades para el entrenamiento pero va a valer la pena porque configurar experimentos va a resultar mucho más fácil- podemos ver un ejemplo de cómo inicializar un experimento sencillo para entrenar un traductor encoder-decoder\n",
    "\n",
    "En este ejemplo, como los datasets están muy filtrados podemos usar redes pequeñas, de 128 nodos ocultos y una única capa GRU. \n"
   ]
  },
  {
   "cell_type": "code",
   "execution_count": 23,
   "metadata": {
    "collapsed": false
   },
   "outputs": [
    {
     "name": "stdout",
     "output_type": "stream",
     "text": [
      "Reading lines...\n",
      "Read 135842 sentence pairs\n",
      "Trimmed to 11445 sentence pairs\n",
      "Counting words...\n",
      "Counted words:\n",
      "fra 4601\n",
      "eng 2991\n",
      "0m 11s (- 0m 11s) (1 50%) 2.4699\n",
      "0m 16s (- 0m 0s) (2 100%) 1.6428\n"
     ]
    },
    {
     "data": {
      "text/plain": [
       "<Figure size 640x480 with 0 Axes>"
      ]
     },
     "metadata": {},
     "output_type": "display_data"
    },
    {
     "data": {
      "image/png": "[encoded data removed]",
      "text/plain": [
       "<Figure size 640x480 with 1 Axes>"
      ]
     },
     "metadata": {},
     "output_type": "display_data"
    }
   ],
   "source": [
    "%matplotlib inline\n",
    "\n",
    "hidden_size = 128\n",
    "batch_size = 32\n",
    "\n",
    "input_lang, output_lang, train_dataloader = get_dataloader(batch_size)\n",
    "\n",
    "encoder = EncoderRNN(input_lang.n_words, hidden_size).to(device)\n",
    "decoder = AttnDecoderRNN(hidden_size, output_lang.n_words).to(device)\n",
    "\n",
    "train(train_dataloader, encoder, decoder, 2, print_every=1, plot_every=1)"
   ]
  },
  {
   "cell_type": "markdown",
   "metadata": {},
   "source": [
    "Set dropout layers to `eval` mode\n"
   ]
  },
  {
   "cell_type": "code",
   "execution_count": 24,
   "metadata": {
    "collapsed": false
   },
   "outputs": [
    {
     "name": "stdout",
     "output_type": "stream",
     "text": [
      "> c est un lambin\n",
      "= he s a slowpoke\n",
      "< he is a good at a student <EOS>\n",
      "\n",
      "> je finis mes devoirs\n",
      "= i m finishing my homework\n",
      "< i m going to be the one who trained me\n",
      "\n",
      "> je suis diabetique\n",
      "= i m a diabetic\n",
      "< i m going to be <EOS>\n",
      "\n",
      "> il devient ramollo avec l age\n",
      "= he s getting soft in his old age\n",
      "< he is afraid of his father <EOS>\n",
      "\n",
      "> je suis plus intelligent que toi\n",
      "= i m smarter than you\n",
      "< i m glad you re the one who trained me\n",
      "\n",
      "> il parle vite\n",
      "= he is a fast speaker\n",
      "< he is always a good at home <EOS>\n",
      "\n",
      "> j ai de l interet pour la musique\n",
      "= i am interested in music\n",
      "< i m going to be the same <EOS>\n",
      "\n",
      "> je suis etonnee de te voir\n",
      "= i m surprised to see you\n",
      "< i m sorry to have you re the one who\n",
      "\n",
      "> je suis content que tu ailles a nouveau bien\n",
      "= i m glad you re ok again\n",
      "< i m glad you re the one who trained me\n",
      "\n",
      "> il est bon chanteur\n",
      "= he is a good singer\n",
      "< he is afraid of the same age <EOS>\n",
      "\n"
     ]
    }
   ],
   "source": [
    "encoder.eval()\n",
    "decoder.eval()\n",
    "evaluateRandomly(encoder, decoder)"
   ]
  },
  {
   "cell_type": "markdown",
   "metadata": {},
   "source": [
    "\n",
    "## Visualizando la atención\n",
    "\n",
    "Una de las ventajas del mecanismo de atención es que podemos, de forma muy cómoda y sin esfuerzo adicional, interpretar en qué tokens de la entrada nos hemos basado para generar las salidas. Para eso, podemos usar `plt.matshow(attentions)` para visualizarla como una matriz a la que le añadimos ejes horizontales y verticuales para visualizarla mejor.\n",
    "\n"
   ]
  },
  {
   "cell_type": "code",
   "execution_count": 26,
   "metadata": {
    "collapsed": false
   },
   "outputs": [
    {
     "name": "stdout",
     "output_type": "stream",
     "text": [
      "input = il n est pas aussi grand que son pere\n",
      "output = he is not a good at the oldest <EOS>\n"
     ]
    },
    {
     "name": "stderr",
     "output_type": "stream",
     "text": [
      "C:\\Users\\Pc\\AppData\\Local\\Temp\\ipykernel_14040\\1690937169.py:8: UserWarning: set_ticklabels() should only be used with a fixed number of ticks, i.e. after set_ticks() or using a FixedLocator.\n",
      "  ax.set_xticklabels([''] + input_sentence.split(' ') +\n",
      "C:\\Users\\Pc\\AppData\\Local\\Temp\\ipykernel_14040\\1690937169.py:10: UserWarning: set_ticklabels() should only be used with a fixed number of ticks, i.e. after set_ticks() or using a FixedLocator.\n",
      "  ax.set_yticklabels([''] + output_words)\n"
     ]
    },
    {
     "data": {
      "image/png": "[encoded data removed]",
      "text/plain": [
       "<Figure size 640x480 with 2 Axes>"
      ]
     },
     "metadata": {},
     "output_type": "display_data"
    },
    {
     "name": "stdout",
     "output_type": "stream",
     "text": [
      "input = je suis trop fatigue pour conduire\n",
      "output = i m sorry to have you for the same <EOS>\n"
     ]
    },
    {
     "name": "stderr",
     "output_type": "stream",
     "text": [
      "C:\\Users\\Pc\\AppData\\Local\\Temp\\ipykernel_14040\\1690937169.py:8: UserWarning: set_ticklabels() should only be used with a fixed number of ticks, i.e. after set_ticks() or using a FixedLocator.\n",
      "  ax.set_xticklabels([''] + input_sentence.split(' ') +\n",
      "C:\\Users\\Pc\\AppData\\Local\\Temp\\ipykernel_14040\\1690937169.py:10: UserWarning: set_ticklabels() should only be used with a fixed number of ticks, i.e. after set_ticks() or using a FixedLocator.\n",
      "  ax.set_yticklabels([''] + output_words)\n"
     ]
    },
    {
     "data": {
      "image/png": "[encoded data removed]",
      "text/plain": [
       "<Figure size 640x480 with 2 Axes>"
      ]
     },
     "metadata": {},
     "output_type": "display_data"
    },
    {
     "name": "stdout",
     "output_type": "stream",
     "text": [
      "input = je suis desole si c est une question idiote\n",
      "output = i m sorry for a new of the same <EOS>\n"
     ]
    },
    {
     "name": "stderr",
     "output_type": "stream",
     "text": [
      "C:\\Users\\Pc\\AppData\\Local\\Temp\\ipykernel_14040\\1690937169.py:8: UserWarning: set_ticklabels() should only be used with a fixed number of ticks, i.e. after set_ticks() or using a FixedLocator.\n",
      "  ax.set_xticklabels([''] + input_sentence.split(' ') +\n",
      "C:\\Users\\Pc\\AppData\\Local\\Temp\\ipykernel_14040\\1690937169.py:10: UserWarning: set_ticklabels() should only be used with a fixed number of ticks, i.e. after set_ticks() or using a FixedLocator.\n",
      "  ax.set_yticklabels([''] + output_words)\n"
     ]
    },
    {
     "data": {
      "image/png": "[encoded data removed]",
      "text/plain": [
       "<Figure size 640x480 with 2 Axes>"
      ]
     },
     "metadata": {},
     "output_type": "display_data"
    },
    {
     "name": "stdout",
     "output_type": "stream",
     "text": [
      "input = je suis reellement fiere de vous\n",
      "output = i m sorry i didn t you <EOS>\n"
     ]
    },
    {
     "name": "stderr",
     "output_type": "stream",
     "text": [
      "C:\\Users\\Pc\\AppData\\Local\\Temp\\ipykernel_14040\\1690937169.py:8: UserWarning: set_ticklabels() should only be used with a fixed number of ticks, i.e. after set_ticks() or using a FixedLocator.\n",
      "  ax.set_xticklabels([''] + input_sentence.split(' ') +\n",
      "C:\\Users\\Pc\\AppData\\Local\\Temp\\ipykernel_14040\\1690937169.py:10: UserWarning: set_ticklabels() should only be used with a fixed number of ticks, i.e. after set_ticks() or using a FixedLocator.\n",
      "  ax.set_yticklabels([''] + output_words)\n"
     ]
    },
    {
     "data": {
      "image/png": "[encoded data removed]",
      "text/plain": [
       "<Figure size 640x480 with 2 Axes>"
      ]
     },
     "metadata": {},
     "output_type": "display_data"
    }
   ],
   "source": [
    "def showAttention(input_sentence, output_words, attentions):\n",
    "    fig = plt.figure()\n",
    "    ax = fig.add_subplot(111)\n",
    "    cax = ax.matshow(attentions.cpu().numpy(), cmap='bone')\n",
    "    fig.colorbar(cax)\n",
    "\n",
    "    # Set up axes\n",
    "    ax.set_xticklabels([''] + input_sentence.split(' ') +\n",
    "                       ['<EOS>'], rotation=90)\n",
    "    ax.set_yticklabels([''] + output_words)\n",
    "\n",
    "    # Show label at every tick\n",
    "    ax.xaxis.set_major_locator(ticker.MultipleLocator(1))\n",
    "    ax.yaxis.set_major_locator(ticker.MultipleLocator(1))\n",
    "\n",
    "    plt.show()\n",
    "\n",
    "\n",
    "def evaluateAndShowAttention(input_sentence):\n",
    "    output_words, attentions = evaluate(encoder, decoder, input_sentence, input_lang, output_lang)\n",
    "    print('input =', input_sentence)\n",
    "    print('output =', ' '.join(output_words))\n",
    "    showAttention(input_sentence, output_words, attentions[0, :len(output_words), :])\n",
    "\n",
    "\n",
    "evaluateAndShowAttention('il n est pas aussi grand que son pere')\n",
    "\n",
    "evaluateAndShowAttention('je suis trop fatigue pour conduire')\n",
    "\n",
    "evaluateAndShowAttention('je suis desole si c est une question idiote')\n",
    "\n",
    "evaluateAndShowAttention('je suis reellement fiere de vous')"
   ]
  },
  {
   "cell_type": "markdown",
   "metadata": {},
   "source": [
    "# Ejercicios a resolver\n",
    "\n",
    "Se han de resolver los siguientes ejercicios. El trabajo a entregar debe consistir en un jupyter notebook en el que se incluya, para cada ejercicio, la pregunta correspondiente y la respuesta a evaluar por el profesor. Si la respuesta incluye código, este ha de estar ejecutado el mismo notebook tanto como sea posible. Excepciones a este requerimiento son los modelos producidos en el cluster, siempre que el propio notebook no se ejecute también el mismop cluster, junto con la producción del modelo.\n",
    "\n",
    "<div style=\"background-color: #54c7ec; color: #fff; font-weight: 700; padding-left: 10px; padding-top: 5px; padding-bottom: 5px\"><strong>Ejercicio 1:  (2 puntos)</strong></div>\n",
    "\n",
    "Explica en detalle cómo funciona el modelo de Bahdanau, sobre la implementación que se ha usado en esta práctica y usando como apoyo el paper que se ha referenciado. Si se considera conveniente, usa el propio ejecuciones parciales (i.e. fragmentos) del propio código para proporcionar dichas explicaciones. Referencia también el mecanismo de visualización que se ha usado para los cuatro ejemplos que acabas de ver basados en las matrices de atención.\n",
    "\n",
    "<div style=\"background-color: #54c7ec; color: #fff; font-weight: 700; padding-left: 10px; padding-top: 5px; padding-bottom: 5px\"><strong>Ejercicio 2:  (2 puntos)</strong></div>\n",
    "\n",
    "Haz uso del cluster para producir modelos modelos de traducción de inglés a francés. Construye un modelo de traducción basado en seq2seq sin atención. Construye otro modelo de traducción  basado en seq2seq con atención según el modelo de Bahdanau. Usa para ambos tamaños de 256 nodos y 1 capa oculta y entrena las redes durante 100 épocas. Compara los resultados. En la resolución del ejercicio incluye la especificación del trabajo SLURM, el script en Python completo para su ejecución en el cluster y el análisis de los resultados.\n",
    "\n",
    "<div style=\"background-color: #54c7ec; color: #fff; font-weight: 700; padding-left: 10px; padding-top: 5px; padding-bottom: 5px\"><strong>Ejercicio 3:  (3 puntos)</strong></div>\n",
    "\n",
    "Usando los datasets de la página de [Anki](https://www.manythings.org/anki/), repetir los experimentos para crear traductores con atención de Bahdanau, del italiano al inglés y del castellano al inglés. Haz uso del cluster para producir los modelos. En la resolución del ejercicio incluye la especificación del trabajo SLURM, el script en Python completo para su ejecución en el cluster y el análisis de los resultados.\n",
    "\n",
    "<div style=\"background-color: #54c7ec; color: #fff; font-weight: 700; padding-left: 10px; padding-top: 5px; padding-bottom: 5px\"><strong>Ejercicio 4:  (hasta 3 puntos)</strong></div>\n",
    "\n",
    "Tomando como referencia la arquitectura encoder-decoder que hemos usado y el modelo de atención de Bahdanau, trabaja por tu cuenta en un problema equivalente al de traducción, en el que sea posible aplicar un modelo seq2seq como el que estamos usando. Debes elegir trabajar bien en *Resumen de textos* (3 puntos) bien en *Corrección de errores* (1.5 puntos). Ejemplos de datasets que puedes usar directamente para el primero son los siguientes\n",
    "\n",
    "<https://www.kaggle.com/datasets/gowrishankarp/newspaper-text-summarization-cnn-dailymail>\n",
    "\n",
    "<https://www.kaggle.com/datasets/thedevastator/pubmed-article-summarization-dataset>\n",
    "\n",
    "<https://huggingface.co/datasets/ccdv/arxiv-summarization>\n",
    "\n",
    "<https://huggingface.co/datasets/ccdv/pubmed-summarization>\n",
    "\n",
    "y para el segundo \n",
    "\n",
    "<https://www.kaggle.com/datasets/satishgunjal/grammar-correction>\n",
    "\n",
    "<https://huggingface.co/datasets/jhu-clsp/jfleg>\n",
    "\n",
    "<https://huggingface.co/datasets/vishnun/SpellGram>\n",
    "\n",
    "Elige el problema, elige el dataset, justifica tu decisión. En el caso de trabajar en resumen de textos, redimensiona el dataset para que esté entre por ecima de las 400MB y no supere las 512MB de tamaño eliminando ejemplos hasta dejar el dataset por debajo de ese tamaño. En ambos casos construye un modelo y visualiza los resultados siguiendo las pautas de ejercicios 2 y 3. Añade cualquier elemento adicional que consideres necesario. En la resolución del ejercicio incluye la especificación del trabajo SLURM, el script en Python completo para su ejecución en el cluster y el análisis de los resultados.\n",
    "\n",
    "La fecha de entrega es el 15 de noviembre a las 23:55 mediante la correspondiente tarea que se hará disponible en el AV.\n",
    "\n",
    "Puedes entregar cada ejercicio en un notebook separado si te resulta más cómodo. Ya se man mecionado arriba pero se reiterea. Para aquellos ejercicios que requieran del cluster, el notebook ha de entregarse ejecutado en una de dos modalidades:\n",
    "\n",
    "* Modalidad A: todo el ejercicio en un notebook jupyter ejecutado desde un trabajo. En este caso, el notebook se habrá compilado según el comando `jupyter nbconvert --execute` tal y como hemos visto en la documentación de uso del cluster. Se hará entrega de cada notebook en la entrega de la tarea.\n",
    "\n",
    "* Modalidad B: todo el ejercicio en un notebook jupyter, ejecutado desde un ordenador personal. La parte relativa a la generación del modelo se habrá realizado en el cluster y almacenado en un fichero que se leerá desde el notebook y se usará ya entrenado. \n",
    "\n",
    "Nota: se permite realizar la totalidad o parte de los ejercicios sin hacer uso del cluster. En ese caso, la nota máxima del ejercicio será la mitad de la puntuación original. \n",
    "\n",
    "La tarea constará de UNA ÚNICA ENTREGA que incluirá los notebooks de todos los ejercicios realizados.\n"
   ]
  }
 ],
 "metadata": {
  "kernelspec": {
   "display_name": "Python 3",
   "language": "python",
   "name": "python3"
  },
  "language_info": {
   "codemirror_mode": {
    "name": "ipython",
    "version": 3
   },
   "file_extension": ".py",
   "mimetype": "text/x-python",
   "name": "python",
   "nbconvert_exporter": "python",
   "pygments_lexer": "ipython3",
   "version": "3.11.9"
  }
 },
 "nbformat": 4,
 "nbformat_minor": 0
}
